{
 "cells": [
  {
   "cell_type": "markdown",
   "id": "24c107d3-a2d8-42d5-aa19-d1eae0542239",
   "metadata": {},
   "source": [
    "# Conventions of Programming"
   ]
  },
  {
   "cell_type": "markdown",
   "id": "3ed41f82-4918-46e3-bbed-0d20b18f60ac",
   "metadata": {},
   "source": [
    "## Orbital notations"
   ]
  },
  {
   "cell_type": "markdown",
   "id": "970febb1-4949-45f8-9764-fe962ffb1bda",
   "metadata": {},
   "source": [
    "For MP2 computation, molecular orbitals can be classified to 4 categories. Several notations are defined as follows."
   ]
  },
  {
   "cell_type": "markdown",
   "id": "60508899-82ca-49d5-a317-b1d14cbedc3e",
   "metadata": {},
   "source": [
    "| Category | Shorthand | Indices | Long code | Short Code |\n",
    "|--|--|--|--|--|\n",
    "| frozen occupied | core | *I, J, K, L* | `Core` | `C` |\n",
    "| active occupied | actocc/occ | *i, j, k, l* | `Occ` | `O` |\n",
    "| active virtual | actvir/vir | *a, b, c, d* | `Vir` | `V` |\n",
    "| frozen virtual | frzvir | *A, B, C, D* | `Frzvir` | `F` |\n",
    "| all occupied | occ | *i, j, k, l* | `occ` | `o` |\n",
    "| all virtual | vir | *a, b, c, d* | `vir` | `v` |\n",
    "| all active | act | *p, q, r, s* | `act` | `act` |\n",
    "| all orbitals | mo | *p, q, r, s* | `mo` | `mo` |"
   ]
  },
  {
   "cell_type": "markdown",
   "id": "bf55b462-b454-43c2-9853-47a0e457244c",
   "metadata": {},
   "source": [
    "Note that difference of capitalization `o` and `O` indicates different categories. This is different to that of PySCF's `make_eris` in unrestricted computations in mp or cc modules. For our code, we may explicitly use `a` for alpha and `b` for beta spins."
   ]
  },
  {
   "cell_type": "markdown",
   "id": "941a37d8-c6fa-4e25-b9cd-3ff5585d9ac9",
   "metadata": {},
   "source": [
    "Also note that in some cases, captialized alphabets denote sliced indices. For example $t_{ij}^{ab}$ (`t_ijab`), if only some $i$ is required, we just denote that variable as `t_Ijab = t_ijab[id_i_start:id_i_end, :, :, :]`. This kind of variable naming may cause confusion."
   ]
  },
  {
   "cell_type": "markdown",
   "id": "c5d2a626-da59-4e32-b1c4-c8d46c0d643a",
   "metadata": {},
   "source": [
    "## Function prefix conventions"
   ]
  },
  {
   "cell_type": "markdown",
   "id": "617712e2-7849-408e-ac04-be7ebfe21ff8",
   "metadata": {},
   "source": [
    "We usually use the following convention for naming and signature of functions:\n",
    "\n",
    "- `kernel_`\n",
    "    - Computations for complicated processes.\n",
    "    - Can be static methods of a class such as `RDH`. Instance of these classes is not recommended to be passed into function as argument.\n",
    "    - First argument is recommended to be `params`; however, if `params` is not required, this argument can also be omitted.\n",
    "    - Flags can be passed into kernel by either arguments or by `params.flags`; the latter is recommended.\n",
    "    - Returns a dictionary of results, which is able to be updated to `params.results`.\n",
    "    - Intermediate or output tensors should be written into `params.tensors`.\n",
    "- `driver_`\n",
    "    - Computations for complicated processes.\n",
    "    - Should be a member function of a class such as `RDH`.\n",
    "    - First argument must be instance of class such as `RDH`.\n",
    "    - Returns the instance of class itself.\n",
    "    - Have the most availability to manipulate results, tensors, flags, class attributes, etc.\n",
    "    - Calling `driver` functions in another `driver` function is acceptable.\n",
    "    - Let most computationally/IO extensive operations to kernel/get/make functions.\n",
    "      Driver function itself should focus on flag/tensor pre-processing (preparation), or be a wrapper of kernel function.\n",
    "- `get_`\n",
    "    - Computations for simple processes.\n",
    "    - Can be static methods of a class.\n",
    "    - Do not pass `params` as argument.\n",
    "- `make_`\n",
    "    - Computations for simple processes.\n",
    "    - Should be member function of a class.\n",
    "    - Do not pass `params` as argument."
   ]
  },
  {
   "cell_type": "markdown",
   "id": "128f515b-560f-4784-adcb-17aa9e8129b5",
   "metadata": {},
   "source": [
    "Generally speaking, level of functions is: driver > kernel > make > get."
   ]
  }
 ],
 "metadata": {
  "kernelspec": {
   "display_name": "Python 3 (ipykernel)",
   "language": "python",
   "name": "python3"
  },
  "language_info": {
   "codemirror_mode": {
    "name": "ipython",
    "version": 3
   },
   "file_extension": ".py",
   "mimetype": "text/x-python",
   "name": "python",
   "nbconvert_exporter": "python",
   "pygments_lexer": "ipython3",
   "version": "3.8.13"
  }
 },
 "nbformat": 4,
 "nbformat_minor": 5
}
