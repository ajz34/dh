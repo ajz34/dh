{
 "cells": [
  {
   "cell_type": "markdown",
   "metadata": {},
   "source": [
    "# Usage of Params"
   ]
  },
  {
   "cell_type": "markdown",
   "metadata": {},
   "source": [
    "`Params` aims to be data transfer class. All flags, intermediate tensors, results should be transfered by instance of `Params`."
   ]
  },
  {
   "cell_type": "markdown",
   "metadata": {},
   "source": [
    "```python\n",
    "param = Param(flags, tensors, results)\n",
    "```"
   ]
  },
  {
   "cell_type": "code",
   "execution_count": 1,
   "metadata": {},
   "outputs": [],
   "source": [
    "from pyscf.dh.util import Params, HybridDict"
   ]
  },
  {
   "cell_type": "markdown",
   "metadata": {},
   "source": [
    "## Guide of using `Params`"
   ]
  },
  {
   "cell_type": "markdown",
   "metadata": {},
   "source": [
    "1. `flags` contains running configurations. Usual dictionary.\n",
    "   - Should be read-only for most situations, but no enforcement on this.\n",
    "     If API user need to pass additional flags in functions,\n",
    "     use `with param.with_flags_add({\"add_flag\": add_val})`.\n",
    "   - Should contain simple types such as booleans, integers, enums, or tuples of those types.\n",
    "     `flags` is at least serializable.\n",
    "2. `tensors` contains intermediate matrices/tensors. `HybridDict` instance.\n",
    "   - Should contain `h5py` instance, `np.ndarray` instance.\n",
    "     Other types are strongly not recommended.\n",
    "   - Scalar values are recommanded to be stored in `results` instead of `tensors`; user could also transfer scalar\n",
    "     value to `np.ndarray` instance.\n",
    "3. `results` contains outputs.\n",
    "   - `results` should be serializable."
   ]
  },
  {
   "cell_type": "markdown",
   "metadata": {},
   "source": [
    "## Functional programming"
   ]
  },
  {
   "cell_type": "markdown",
   "metadata": {},
   "source": [
    "For most computing extensive processes, functional programming should be adopted.\n",
    "\n",
    "These kind of functions should have the following signature:\n",
    "\n",
    "```python\n",
    "def func(param, opt1, opt2, ...):\n",
    "    \"\"\"\n",
    "    Output Tensors\n",
    "    --------------\n",
    "    tensor1\n",
    "        Use of tensor1\n",
    "    \"\"\"\n",
    "```"
   ]
  },
  {
   "cell_type": "markdown",
   "metadata": {},
   "source": [
    "It is possible to implicitly pass input variables from `param.tensors`. However, passing tensors (act only as input, values not changed in function) by arguments is more prefered.\n",
    "\n",
    "```python\n",
    "# though this is okay\n",
    "def func(param):\n",
    "    return param.tensors[\"foo\"].sum()\n",
    "# the following is more preferred if param is supplied as an API requirement:\n",
    "def func_more_preferred(_param, foo):\n",
    "    # `_` before variable in signature tells PyCharm that variable could be unused\n",
    "    # or `_param` may even not appeared as input argument\n",
    "    return foo.sum()\n",
    "```"
   ]
  },
  {
   "cell_type": "markdown",
   "metadata": {},
   "source": [
    "It is very common that some functions give output tensors. In these cases, surely explicitly return output tensors or stating output tensors in argumets are good ideas. However, currently, if output tensor may require disk space, or there are too much output tensors, we prefer to store those tensors in `param.tensors`."
   ]
  },
  {
   "cell_type": "markdown",
   "metadata": {},
   "source": [
    "```python\n",
    "# though this is okay\n",
    "def func(inp):\n",
    "    out = proc(inp)\n",
    "    return out\n",
    "# or this is also okay\n",
    "def func(inp, out):\n",
    "    out[:] = proc(inp)\n",
    "    return\n",
    "# the following code is also preferred if func is overwhelmingly complicated\n",
    "def func(param, inp):\n",
    "    out = param.tensors.create(\"out\", shape=out_shape)\n",
    "    out[:] = proc(inp)\n",
    "    return\n",
    "```"
   ]
  },
  {
   "cell_type": "markdown",
   "metadata": {},
   "source": [
    "OOP (object-oriented programs) wraps computing extensive functions. For example (though probably not suitable):\n",
    "\n",
    "```python\n",
    "def proc_dm(self, mo_coeff=None):  # defined as class member function\n",
    "    if mo_coeff is None: mo_coeff = self.param.tensors[\"mo_coeff\"]\n",
    "    dm = comp_dm(self.param, mo_coeff)\n",
    "    self.param.tensors.create(\"dm\", data=dm)\n",
    "    \n",
    "def comp_dm(param, mo_coeff):  # computing extensive function\n",
    "    nocc = param.flags[\"nocc\"]\n",
    "    return 2 * mo_coeff[:, :nocc] @ mo_coeff[:, :nocc].conj().T\n",
    "```"
   ]
  },
  {
   "cell_type": "markdown",
   "metadata": {},
   "source": [
    "## Temporarily Change Flags"
   ]
  },
  {
   "cell_type": "markdown",
   "metadata": {},
   "source": [
    "For several cases, flags need to be changed temporarily in program. To achieve this end, one may call member function `Params.temporary_flags`. For example,"
   ]
  },
  {
   "cell_type": "code",
   "execution_count": 2,
   "metadata": {},
   "outputs": [
    {
     "name": "stdout",
     "output_type": "stream",
     "text": [
      "{'user_flag': True, 'incore_A': True, 'do_cphf': False}\n",
      "{'user_flag': True, 'incore_A': False}\n"
     ]
    }
   ],
   "source": [
    "params = Params({\"user_flag\": True, \"incore_A\": False}, HybridDict(), {})\n",
    "# change \"incore_A\" and add \"do_cphf\" temporarily\n",
    "with params.temporary_flags({\"incore_A\": True, \"do_cphf\": False}):\n",
    "    print(params.flags)\n",
    "print(params.flags)"
   ]
  }
 ],
 "metadata": {
  "kernelspec": {
   "display_name": "Python 3 (ipykernel)",
   "language": "python",
   "name": "python3"
  },
  "language_info": {
   "codemirror_mode": {
    "name": "ipython",
    "version": 3
   },
   "file_extension": ".py",
   "mimetype": "text/x-python",
   "name": "python",
   "nbconvert_exporter": "python",
   "pygments_lexer": "ipython3",
   "version": "3.8.13"
  }
 },
 "nbformat": 4,
 "nbformat_minor": 4
}
