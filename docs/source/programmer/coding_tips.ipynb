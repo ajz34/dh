{
 "cells": [
  {
   "cell_type": "markdown",
   "id": "6ab43979-1173-442c-a59f-87974c86695a",
   "metadata": {},
   "source": [
    "# Some Coding Tips"
   ]
  },
  {
   "cell_type": "markdown",
   "source": [
    "## Python extension with PyCharm inspection\n",
    "\n",
    "Please make the following statements at top of `pyscf/__init__.py` (change pyscf directly instead of dh):\n",
    "```python\n",
    "from pkgutil import extend_path\n",
    "__path__ = extend_path(__path__, __name__)\n",
    "```\n",
    "Then `import pyscf.dh` would not show error.\n",
    "This is related to https://youtrack.jetbrains.com/issue/PY-38434.\n"
   ],
   "metadata": {
    "collapsed": false
   }
  },
  {
   "cell_type": "markdown",
   "id": "29d83400-c7ce-42b4-ad23-2b2ae28980d9",
   "metadata": {},
   "source": [
    "## Using `lib.call_in_background`"
   ]
  },
  {
   "cell_type": "code",
   "execution_count": 1,
   "id": "eb5f8940-6277-409a-8ade-b23b3eff8265",
   "metadata": {},
   "outputs": [],
   "source": [
    "from pyscf import lib\n",
    "import numpy as np\n",
    "import time"
   ]
  },
  {
   "cell_type": "markdown",
   "id": "946ab3ed-9fad-4d99-9c34-3dd788bdaef7",
   "metadata": {},
   "source": [
    "In this case, we simulate the following case:\n",
    "\n",
    "- For each time, element `a` requires 300 ms to read from disk to memory;\n",
    "- Evaluating `a + b` requires 1000 ms.\n",
    "- 5 Iterations is required.\n",
    "\n",
    "This task can be done by convenient class `pyscf.lib.call_in_background` from PySCF."
   ]
  },
  {
   "cell_type": "code",
   "execution_count": 2,
   "id": "9b0f0908-8e74-467a-8a2f-9f59026492e9",
   "metadata": {},
   "outputs": [],
   "source": [
    "a_in_disk = np.array(range(10)) * 2"
   ]
  },
  {
   "cell_type": "code",
   "execution_count": 3,
   "id": "dff5902a-66d8-4967-9f01-8cc6d8788145",
   "metadata": {},
   "outputs": [],
   "source": [
    "def read_300ms(a_in_comp, idx):\n",
    "    \"\"\" Read `a_in_mem[idx]` to `a_in_comp` for 300ms. \"\"\"\n",
    "    # to avoid index overflow; this if judgement is essential for this task\n",
    "    if idx >= a_in_disk.size:\n",
    "        return\n",
    "    # simulate reading something from disk to memory\n",
    "    time.sleep(0.3)\n",
    "    a_in_comp[0] = a_in_disk[idx]\n",
    "\n",
    "def compute_1000ms(a, b):\n",
    "    \"\"\" Compute a+b in 1000ms. \"\"\"\n",
    "    time.sleep(1)\n",
    "    return a + b"
   ]
  },
  {
   "cell_type": "markdown",
   "id": "b2b9500d-dd13-4229-87ce-5115ade9b486",
   "metadata": {},
   "source": [
    "Without load optimization, this process can be done in the following naive way:"
   ]
  },
  {
   "cell_type": "code",
   "execution_count": 4,
   "id": "cf7485c0-b039-4481-90b7-f94d4ac09d37",
   "metadata": {},
   "outputs": [
    {
     "name": "stdout",
     "output_type": "stream",
     "text": [
      "Result of a+b: [0]\n",
      "Time elapsed:  1.302 ms\n",
      "Result of a+b: [3]\n",
      "Time elapsed:  1.301 ms\n",
      "Result of a+b: [6]\n",
      "Time elapsed:  1.301 ms\n",
      "Result of a+b: [9]\n",
      "Time elapsed:  1.302 ms\n",
      "Result of a+b: [12]\n",
      "Time elapsed:  1.301 ms\n"
     ]
    }
   ],
   "source": [
    "t0 = time.time()\n",
    "a_actual = np.array([-1])\n",
    "for idx in range(5):\n",
    "    read_300ms(a_actual, idx)\n",
    "    b = idx\n",
    "    result = compute_1000ms(a_actual, b)\n",
    "    t1 = time.time()\n",
    "    print(\"Result of a+b:\", result)\n",
    "    print(\"Time elapsed: {:6.3f} ms\".format(t1 - t0))\n",
    "    t0, t1 = t1, t0"
   ]
  },
  {
   "cell_type": "markdown",
   "id": "6d4760bf-ac78-4a70-83c0-a9be22626d2d",
   "metadata": {},
   "source": [
    "Basic idea for load optimization is that while performing time-costly computation, we sneekly prefetch the elements that is required in next computation. After load optimization by callable class `lib.call_in_background`:"
   ]
  },
  {
   "cell_type": "code",
   "execution_count": 5,
   "id": "11cffc6e-0116-4ea3-885e-fbdeaa7f8ae5",
   "metadata": {},
   "outputs": [
    {
     "name": "stdout",
     "output_type": "stream",
     "text": [
      "Result of a+b: [0]\n",
      "Time elapsed:  1.302 ms\n",
      "Result of a+b: [3]\n",
      "Time elapsed:  1.001 ms\n",
      "Result of a+b: [6]\n",
      "Time elapsed:  1.001 ms\n",
      "Result of a+b: [9]\n",
      "Time elapsed:  1.001 ms\n",
      "Result of a+b: [12]\n",
      "Time elapsed:  1.001 ms\n"
     ]
    }
   ],
   "source": [
    "t0 = time.time()\n",
    "\n",
    "with lib.call_in_background(read_300ms) as prefetch_a:\n",
    "    a_prefetch = np.array([-1])\n",
    "    a_actual = np.array([-1])\n",
    "    \n",
    "    read_300ms(a_prefetch, 0)\n",
    "    for idx in range(5):\n",
    "        a_prefetch, a_actual = a_actual, a_prefetch\n",
    "        prefetch_a(a_prefetch, idx+1)\n",
    "        b = idx\n",
    "        result = compute_1000ms(a_actual, b)\n",
    "        t1 = time.time()\n",
    "        print(\"Result of a+b:\", result)\n",
    "        print(\"Time elapsed: {:6.3f} ms\".format(t1 - t0))\n",
    "        t0, t1 = t1, t0"
   ]
  },
  {
   "cell_type": "markdown",
   "id": "20e3110a-5b17-479f-9e2b-457bc18cf9db",
   "metadata": {},
   "source": [
    "Note that function `lib.map_with_prefetch` have similar functionality."
   ]
  }
 ],
 "metadata": {
  "kernelspec": {
   "display_name": "Python 3 (ipykernel)",
   "language": "python",
   "name": "python3"
  },
  "language_info": {
   "codemirror_mode": {
    "name": "ipython",
    "version": 3
   },
   "file_extension": ".py",
   "mimetype": "text/x-python",
   "name": "python",
   "nbconvert_exporter": "python",
   "pygments_lexer": "ipython3",
   "version": "3.8.13"
  }
 },
 "nbformat": 4,
 "nbformat_minor": 5
}
